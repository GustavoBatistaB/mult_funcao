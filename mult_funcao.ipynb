{
  "nbformat": 4,
  "nbformat_minor": 0,
  "metadata": {
    "colab": {
      "provenance": [],
      "collapsed_sections": [],
      "authorship_tag": "ABX9TyOjrUE6HbuZ1NTi1lHQpN3N",
      "include_colab_link": true
    },
    "kernelspec": {
      "name": "python3",
      "display_name": "Python 3"
    },
    "language_info": {
      "name": "python"
    }
  },
  "cells": [
    {
      "cell_type": "markdown",
      "metadata": {
        "id": "view-in-github",
        "colab_type": "text"
      },
      "source": [
        "<a href=\"https://colab.research.google.com/github/GustavoBatistaB/mult_funcao/blob/main/mult_funcao.ipynb\" target=\"_parent\"><img src=\"https://colab.research.google.com/assets/colab-badge.svg\" alt=\"Open In Colab\"/></a>"
      ]
    },
    {
      "cell_type": "code",
      "execution_count": null,
      "metadata": {
        "id": "HNdLUjsrsrHP"
      },
      "outputs": [],
      "source": [
        "import random\n",
        "\n",
        "def tabuada():\n",
        "  escolha = int(input(\"Digite um numero: \"))\n",
        "  for n in range(1,11):\n",
        "    print(f\"{escolha} x  {n} = {escolha*n}\")  \n",
        "\n",
        "\n",
        "def alfabeto():\n",
        "  \n",
        "  vogal = 0\n",
        "  consoante = 0\n",
        "  \n",
        "  consoantes = [\"B\",\"C\",\"D\",\"F\",\"G\",\"J\",\"K\",\"L\",\"M\" ,\"N\",\"P\",\"Q\",\"R\",\"S\",\"T\",\"V\",\"W\",\"X\",\"Z\"]\n",
        "  vogais = [\"A\",\"E\",\"I\",\"O\",\"U\"]\n",
        "\n",
        "  palavra = input(\"Digite uma frase: \")\n",
        "  for p in palavra.upper():\n",
        "    for c in consoantes:\n",
        "      if c == p: \n",
        "        consoante += 1\n",
        "    for v in vogais:  \n",
        "      if v == p:\n",
        "        vogal += 1\n",
        "  palavra = palavra.replace(\" \",\"\")      \n",
        "  print(f\"A sua frase teve: \\nVogais: {vogal}\\nConsoantes: {consoante}\\nA quantidade de letras digitadas foram:{len(palavra)}\")    \n",
        "\n",
        "\n",
        "def geradorsenha():\n",
        "  quantidade = 0 \n",
        "  senha = \"\"\n",
        "  while quantidade < 8:\n",
        "    \n",
        "    alfaber = [\"A\",\"B\", \"C\",\"D\",\"E\",\"F\",\"G\",\"H\",\"I\",\"J\",\"K\",\"L\",\"M\",\"N\",\"O\",\"P\",\"Q\",\"R\",\"S\",\"T\",\"U\",\"V\",\"W\",\"X\",\"Y\",\"Z\"]\n",
        "    alfa_num = [\"1\",\"2\",\"3\",\"4\",\"5\",\"6\",\"7\",\"8\",\"9\"]\n",
        "    carac_especial = [\"@\",\"#\",\"$\"]\n",
        "    \n",
        "    aleat = alfa_num+ alfaber+carac_especial \n",
        "    \n",
        "    if len(senha) <=7:\n",
        "      senha_ = random.choice(aleat)\n",
        "      senha = senha + senha_\n",
        "    quantidade += 1     \n",
        "  else:\n",
        "    print(senha)      \n",
        "\n",
        "sair = False\n",
        "\n",
        "while sair == False: \n",
        "\n",
        "  print(\"------------------------------------------------------------------------\")\n",
        "  print(\"------------------------- Programa MultiFunçãO -------------------------\")\n",
        "  print(\"------------------------------------------------------------------------\")\n",
        "\n",
        "  fazer = input(\"Oque deseja fazer:\\n1 - Tabuada\\n2 - Alfabeto\\n3 - Gerar Senha\\nDigite qualquer letra para sair\\n\")\n",
        "\n",
        "  if fazer == \"1\": \n",
        "    tabuada()\n",
        "  elif fazer == \"2\":\n",
        "    alfabeto()\n",
        "  elif fazer == \"3\":\n",
        "    geradorsenha()\n",
        "  else:\n",
        "    print(\"Saindo..\")      \n",
        "    sair = True"
      ]
    },
    {
      "cell_type": "code",
      "source": [],
      "metadata": {
        "id": "Gny4-rX7cD1p"
      },
      "execution_count": null,
      "outputs": []
    }
  ]
}